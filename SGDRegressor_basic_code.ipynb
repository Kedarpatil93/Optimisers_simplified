{
  "nbformat": 4,
  "nbformat_minor": 0,
  "metadata": {
    "colab": {
      "provenance": []
    },
    "kernelspec": {
      "name": "python3",
      "display_name": "Python 3"
    },
    "language_info": {
      "name": "python"
    }
  },
  "cells": [
    {
      "cell_type": "markdown",
      "source": [
        "Write a simple SGDRegressor for multiple linear regression as if coded in sklearn"
      ],
      "metadata": {
        "id": "dns-cr7qChGD"
      }
    },
    {
      "cell_type": "code",
      "source": [
        "from sklearn.datasets import load_iris\n",
        "from sklearn.model_selection import train_test_split\n",
        "from sklearn.linear_model import SGDRegressor\n",
        "from sklearn.metrics import r2_score\n",
        "import numpy as np"
      ],
      "metadata": {
        "id": "b1z1qxN3g9zy"
      },
      "execution_count": 30,
      "outputs": []
    },
    {
      "cell_type": "code",
      "source": [
        "# Import data and split in train test\n",
        "\n",
        "X, y = load_iris(return_X_y=True)\n",
        "\n",
        "X_train, X_test, y_train, y_test = train_test_split(X, y, test_size=0.2, random_state=42)\n",
        "\n",
        "print('Shape of X_train :',X_train.shape)\n",
        "print('Shape of y_train :',y_train.shape)"
      ],
      "metadata": {
        "colab": {
          "base_uri": "https://localhost:8080/"
        },
        "id": "y05JChbTBXNU",
        "outputId": "8e48fbc7-669c-4aa2-fba8-2474bf5bb242"
      },
      "execution_count": 31,
      "outputs": [
        {
          "output_type": "stream",
          "name": "stdout",
          "text": [
            "Shape of X_train : (120, 4)\n",
            "Shape of y_train : (120,)\n"
          ]
        }
      ]
    },
    {
      "cell_type": "code",
      "execution_count": 42,
      "metadata": {
        "id": "JSMiGZo1FZ7D"
      },
      "outputs": [],
      "source": [
        "#Using our own class for SGDRegressor\n",
        "\n",
        "class SgDRegressor:\n",
        "  def __init__(self,learning_rate,epoch):\n",
        "    self.learning_rate = learning_rate\n",
        "    self.epoch = epoch\n",
        "    self.theta0 = None\n",
        "    self.theta1 = None\n",
        "\n",
        "  def fit(self, X_train,y_train):\n",
        "    self.theta0=0\n",
        "    self.theta1=np.ones(X_train.shape[1])\n",
        "\n",
        "    for _ in range(self.epoch):\n",
        "\n",
        "      for j in range(X_train.shape[0]):\n",
        "\n",
        "        idx = np.random.randint(0,X_train.shape[0])\n",
        "        y_pred=self.theta0+np.dot(X_train[idx],self.theta1)\n",
        "        self.theta0=self.theta0-(-2)*self.learning_rate * np.mean(y_train[idx]-y_pred)\n",
        "        self.theta1=self.theta1-self.learning_rate * (-2) * np.dot(X_train[idx].transpose(),(y_train[idx]-y_pred))\n",
        "\n",
        "      return self.theta0, self.theta1\n",
        "\n",
        "\n",
        "  def predict(self,X_test):\n",
        "    return self.theta0+np.dot(X_test,self.theta1)\n",
        "\n",
        "\n",
        "sgd = SgDRegressor(0.01,10000)\n",
        "sgd.fit(X_train,y_train)\n",
        "\n",
        "y_pred=sgd.predict(X_test)"
      ]
    },
    {
      "cell_type": "code",
      "source": [
        "r2_score(y_test,y_pred)"
      ],
      "metadata": {
        "id": "5HXQQ91ig8Lv",
        "colab": {
          "base_uri": "https://localhost:8080/"
        },
        "outputId": "32e986d4-d05f-4acf-ec3d-7d3ad3a6c840"
      },
      "execution_count": 43,
      "outputs": [
        {
          "output_type": "execute_result",
          "data": {
            "text/plain": [
              "0.9078695508792538"
            ]
          },
          "metadata": {},
          "execution_count": 43
        }
      ]
    },
    {
      "cell_type": "code",
      "source": [
        "\n",
        "\n"
      ],
      "metadata": {
        "id": "Ttxy5d6-HWdK"
      },
      "execution_count": 33,
      "outputs": []
    },
    {
      "cell_type": "code",
      "source": [
        "# using sklearn\n",
        "\n",
        "reg=SGDRegressor(max_iter=100,learning_rate='constant',eta0=0.01)\n",
        "reg.fit(X_train,y_train)\n",
        "y_pred=reg.predict(X_test)\n",
        "\n",
        "r2_score(y_test,y_pred)"
      ],
      "metadata": {
        "id": "VpoHYDh5ts3n",
        "colab": {
          "base_uri": "https://localhost:8080/"
        },
        "outputId": "2ddeccbd-5cbb-4237-b554-98e93d6a571f"
      },
      "execution_count": 49,
      "outputs": [
        {
          "output_type": "execute_result",
          "data": {
            "text/plain": [
              "0.9283589298774013"
            ]
          },
          "metadata": {},
          "execution_count": 49
        }
      ]
    },
    {
      "cell_type": "code",
      "source": [],
      "metadata": {
        "id": "dPrwRGT-HeOg"
      },
      "execution_count": null,
      "outputs": []
    }
  ]
}
